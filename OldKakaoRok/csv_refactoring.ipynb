{
 "cells": [
  {
   "cell_type": "code",
   "execution_count": 515,
   "id": "358cc363",
   "metadata": {
    "ExecuteTime": {
     "end_time": "2023-04-01T12:19:34.412645Z",
     "start_time": "2023-04-01T12:19:34.388092Z"
    }
   },
   "outputs": [],
   "source": [
    "import numpy as np\n",
    "import pandas as pd\n",
    "\n",
    "from tqdm import tqdm"
   ]
  },
  {
   "cell_type": "code",
   "execution_count": 332,
   "id": "0e82fd30",
   "metadata": {
    "ExecuteTime": {
     "end_time": "2023-04-01T09:56:22.309971Z",
     "start_time": "2023-04-01T09:56:22.295120Z"
    }
   },
   "outputs": [],
   "source": [
    "diner_cols = [\n",
    "        #'idx',\n",
    "        'diner_name',           # 가게이름 \n",
    "        'diner_category',       # 가게 카테고리\n",
    "        'diner_menu',           # 가게 메뉴\n",
    "        'diner_review_cnt',     # 가게의 평점 개수 \n",
    "        'diner_review_avg',     # 가게의 평점 평균\n",
    "        'diner_review_tags',    # 리뷰 태그\n",
    "        'diner_address',        # 가게 주소    \n",
    "        'diner_lon',            # 가게 위도\n",
    "        'diner_lat',            # 가게 경도\n",
    "        'diner_url',            # 가게 URL\n",
    "        'diner_open_time'       # 가게 오픈시간\n",
    "       ]\n",
    "\n",
    "review_cols = [\n",
    "        #'idx',\n",
    "        'reviewer_avg',         # 리뷰어의 평점 평균\n",
    "        'reviewer_review_cnt',  # 리뷰어의 리뷰 개수\n",
    "        'reviewer_review_score',# 리뷰어가 남긴 평점\n",
    "        'reviewer_review_date', # 리뷰를 남긴 날짜\n",
    "        'diner_idx'             # 가게 인덱스\n",
    "        ]"
   ]
  },
  {
   "cell_type": "code",
   "execution_count": 333,
   "id": "057dfabf",
   "metadata": {
    "ExecuteTime": {
     "end_time": "2023-04-01T09:56:22.570544Z",
     "start_time": "2023-04-01T09:56:22.559206Z"
    }
   },
   "outputs": [],
   "source": [
    "# df 생성\n",
    "diner_df = pd.DataFrame(columns = diner_cols)\n",
    "review_df = pd.DataFrame(columns = review_cols)"
   ]
  },
  {
   "cell_type": "code",
   "execution_count": 668,
   "id": "036bd913",
   "metadata": {
    "ExecuteTime": {
     "end_time": "2023-04-01T14:20:03.599372Z",
     "start_time": "2023-04-01T14:20:02.912222Z"
    }
   },
   "outputs": [
    {
     "name": "stderr",
     "output_type": "stream",
     "text": [
      "C:\\Users\\isl12\\AppData\\Local\\Temp\\ipykernel_3156\\984553786.py:1: DtypeWarning: Columns (14,15,16,17) have mixed types. Specify dtype option on import or set low_memory=False.\n",
      "  df = pd.read_csv(\"./KakaoRok_Dev/OldKakaoRok/matki_DB.csv\")\n"
     ]
    }
   ],
   "source": [
    "# read_csv\n",
    "df = pd.read_csv(\"./KakaoRok_Dev/OldKakaoRok/matki_DB.csv\")"
   ]
  },
  {
   "cell_type": "code",
   "execution_count": 669,
   "id": "914bb6ad",
   "metadata": {
    "ExecuteTime": {
     "end_time": "2023-04-01T14:20:03.655665Z",
     "start_time": "2023-04-01T14:20:03.600738Z"
    }
   },
   "outputs": [],
   "source": [
    "# 위도, 경도의 데이터 처리\n",
    "df.loc[df[\"lon\"] == \"None\", \"lon\"] = 0.0\n",
    "df.loc[df[\"lat\"] == \"None\", \"lat\"] = 0.0\n",
    "df[\"lon\"] = df[\"lon\"].astype(float)\n",
    "df[\"lat\"] = df[\"lat\"].astype(float)\n",
    "\n",
    "# 위도상으로 120 미만에 있는 모든 것들이 위도,경도가 바뀜\n",
    "swap_series = df.loc[df.query(\"lon < 120\").index, \"lon\"]\n",
    "df.loc[df.query(\"lon < 120\").index, \"lon\"] = df.loc[df.query(\"lon < 120\").index, \"lat\"]\n",
    "df.loc[df.query(\"lon < 120\").index, \"lat\"] = swap_series"
   ]
  },
  {
   "cell_type": "code",
   "execution_count": 681,
   "id": "8a82e023",
   "metadata": {
    "ExecuteTime": {
     "end_time": "2023-04-01T14:26:47.887901Z",
     "start_time": "2023-04-01T14:25:59.889115Z"
    }
   },
   "outputs": [
    {
     "name": "stderr",
     "output_type": "stream",
     "text": [
      "100%|█████████████████████████████████████████████████████████████████████████████| 6415/6415 [00:47<00:00, 134.05it/s]\n"
     ]
    }
   ],
   "source": [
    "# 가게이름에 대한 키가 없기 때문에 해당 파일에서 구분할 수 있는 기준 정의 \n",
    "usecols = ['name', 'addresse',  'review_num', 'score_min', 'cat1', 'likePoint', 'likePointCnt']\n",
    "li = df[usecols].value_counts().index\n",
    "diner_cnt = 0 \n",
    "\n",
    "for idx in tqdm(li) :\n",
    "    # diner_df에 들어갈 값 저장\n",
    "    diner_name, diner_address, diner_review_cnt, diner_review_avg, diner_category = idx[:5]\n",
    "    diner_review_tags = \"@\".join([\"\".join(i) for i in zip([j for j in idx[5].split(\"@\")], [k for k in idx[6].split(\"@\")])])\n",
    "    \n",
    "    # 그의 위도,경도,URL, 오픈 시간\n",
    "    ori_df = df.query(f\"name == '{diner_name}' and addresse == '{diner_address}'\")\n",
    "    \n",
    "    # loc를 통해 데이터 삽입\n",
    "    diner_df.loc[diner_cnt] = [\n",
    "                            diner_name,\n",
    "                            diner_category,\n",
    "                            ori_df.iloc[-1][\"cat2\"],\n",
    "                            diner_review_cnt,\n",
    "                            diner_review_avg,\n",
    "                            diner_review_tags,\n",
    "                            diner_address,\n",
    "                            ori_df.iloc[-1][\"lon\"],\n",
    "                            ori_df.iloc[-1][\"lat\"],\n",
    "                            ori_df.iloc[-1][\"url\"],\n",
    "                            ori_df.iloc[-1][\"open_time\"]\n",
    "                            ]\n",
    "    diner_cnt += 1"
   ]
  },
  {
   "cell_type": "code",
   "execution_count": 728,
   "id": "7de62cbf",
   "metadata": {
    "ExecuteTime": {
     "end_time": "2023-04-01T14:57:00.593958Z",
     "start_time": "2023-04-01T14:53:47.794222Z"
    }
   },
   "outputs": [
    {
     "name": "stderr",
     "output_type": "stream",
     "text": [
      "100%|██████████████████████████████████████████████████████████████████████████████| 5206/5206 [03:12<00:00, 27.01it/s]\n"
     ]
    }
   ],
   "source": [
    "review_cnt = 0\n",
    "\n",
    "# 가게이름과 주소를 통한 최소한의 중복 제거 후 반복 실행\n",
    "for i in tqdm(diner_df.drop_duplicates(subset = [\"diner_name\", \"diner_address\"], keep = \"last\").index) :\n",
    "    # query를 통해 가게 이름과 주소로 서치\n",
    "    ori_df = df.query(f\"name == '{diner_df.loc[i, 'diner_name']}' and addresse == '{diner_df.loc[i, 'diner_address']}'\")\n",
    "    \n",
    "    # 리뷰 평점 평균, 리뷰자가 올린 평점, 리뷰올린 날짜로 중복 제거\n",
    "    for j in ori_df.drop_duplicates(subset = [\"rate\", \"reviewAt\",\"reviews_date\"], keep = \"last\").index :\n",
    "        # 데이터 삽입\n",
    "        review_df.loc[review_cnt] = [\n",
    "                                ori_df.loc[j, \"rate\"],\n",
    "                                ori_df.loc[j, \"reviewerCnt\"],\n",
    "                                ori_df.loc[j, \"reviewAt\"],\n",
    "                                ori_df.loc[j, \"reviews_date\"],\n",
    "                                i\n",
    "                                ]\n",
    "        review_cnt += 1"
   ]
  },
  {
   "cell_type": "code",
   "execution_count": null,
   "id": "21887585",
   "metadata": {},
   "outputs": [],
   "source": []
  },
  {
   "cell_type": "code",
   "execution_count": 729,
   "id": "058f68d9",
   "metadata": {
    "ExecuteTime": {
     "end_time": "2023-04-01T14:57:07.557887Z",
     "start_time": "2023-04-01T14:57:00.594961Z"
    }
   },
   "outputs": [],
   "source": [
    "# 두 데이터 프레임을 시트로 구분하여 엑셀로 저장\n",
    "writer = pd.ExcelWriter('matki_DB.xlsx', engine='xlsxwriter')\n",
    "diner_df.to_excel(writer, sheet_name= 'diner')\n",
    "review_df.to_excel(writer, sheet_name= 'review')\n",
    "writer.save()"
   ]
  },
  {
   "cell_type": "code",
   "execution_count": null,
   "id": "73adb55b",
   "metadata": {},
   "outputs": [],
   "source": []
  }
 ],
 "metadata": {
  "kernelspec": {
   "display_name": "Python 3 (ipykernel)",
   "language": "python",
   "name": "python3"
  },
  "language_info": {
   "codemirror_mode": {
    "name": "ipython",
    "version": 3
   },
   "file_extension": ".py",
   "mimetype": "text/x-python",
   "name": "python",
   "nbconvert_exporter": "python",
   "pygments_lexer": "ipython3",
   "version": "3.9.12"
  }
 },
 "nbformat": 4,
 "nbformat_minor": 5
}
