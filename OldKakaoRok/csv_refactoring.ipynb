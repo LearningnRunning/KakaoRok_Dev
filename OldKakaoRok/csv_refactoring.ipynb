{
 "cells": [
  {
   "cell_type": "code",
   "execution_count": 1,
   "id": "358cc363",
   "metadata": {
    "ExecuteTime": {
     "end_time": "2023-04-14T04:16:27.241937Z",
     "start_time": "2023-04-14T04:16:26.772014Z"
    }
   },
   "outputs": [],
   "source": [
    "import numpy as np\n",
    "import pandas as pd\n",
    "\n",
    "from tqdm import tqdm"
   ]
  },
  {
   "cell_type": "code",
   "execution_count": 2,
   "id": "0e82fd30",
   "metadata": {
    "ExecuteTime": {
     "end_time": "2023-04-14T04:16:27.738111Z",
     "start_time": "2023-04-14T04:16:27.723111Z"
    }
   },
   "outputs": [],
   "source": [
    "diner_cols = [\n",
    "        #'idx',\n",
    "        'diner_name',           # 가게이름 \n",
    "        'diner_category',       # 가게 카테고리\n",
    "        'diner_menu',           # 가게 메뉴\n",
    "        'diner_review_cnt',     # 가게의 평점 개수 \n",
    "        'diner_review_avg',     # 가게의 평점 평균\n",
    "        'diner_review_tags',    # 리뷰 태그\n",
    "        'diner_address',        # 가게 주소    \n",
    "        'diner_lat',            # 가게 위도\n",
    "        'diner_lon',            # 가게 경도\n",
    "        'diner_url',            # 가게 URL\n",
    "        'diner_open_time'       # 가게 오픈시간\n",
    "       ]\n",
    "\n",
    "review_cols = [\n",
    "        #'idx',\n",
    "        'reviewer_avg',         # 리뷰어의 평점 평균\n",
    "        'reviewer_review_cnt',  # 리뷰어의 리뷰 개수\n",
    "        'reviewer_review_score',# 리뷰어가 남긴 평점\n",
    "        'reviewer_review_date', # 리뷰를 남긴 날짜\n",
    "        'diner_idx'             # 가게 인덱스\n",
    "        ]"
   ]
  },
  {
   "cell_type": "code",
   "execution_count": 3,
   "id": "057dfabf",
   "metadata": {
    "ExecuteTime": {
     "end_time": "2023-04-14T04:16:28.124925Z",
     "start_time": "2023-04-14T04:16:28.106648Z"
    }
   },
   "outputs": [],
   "source": [
    "# df 생성\n",
    "diner_df = pd.DataFrame(columns = diner_cols)\n",
    "review_df = pd.DataFrame(columns = review_cols)"
   ]
  },
  {
   "cell_type": "code",
   "execution_count": 4,
   "id": "036bd913",
   "metadata": {
    "ExecuteTime": {
     "end_time": "2023-04-14T04:16:29.354792Z",
     "start_time": "2023-04-14T04:16:28.460140Z"
    }
   },
   "outputs": [
    {
     "name": "stderr",
     "output_type": "stream",
     "text": [
      "C:\\Users\\isl12\\AppData\\Local\\Temp\\ipykernel_9060\\866189431.py:2: DtypeWarning: Columns (14,15,16,17) have mixed types. Specify dtype option on import or set low_memory=False.\n",
      "  df = pd.read_csv(\"matki_DB.csv\")\n"
     ]
    }
   ],
   "source": [
    "# read_csv\n",
    "df = pd.read_csv(\"matki_DB.csv\")"
   ]
  },
  {
   "cell_type": "code",
   "execution_count": 5,
   "id": "914bb6ad",
   "metadata": {
    "ExecuteTime": {
     "end_time": "2023-04-14T04:16:29.417780Z",
     "start_time": "2023-04-14T04:16:29.355744Z"
    }
   },
   "outputs": [],
   "source": [
    "# 위도, 경도의 데이터 처리\n",
    "df.loc[df[\"lon\"] == \"None\", \"lon\"] = 0.0\n",
    "df.loc[df[\"lat\"] == \"None\", \"lat\"] = 0.0\n",
    "df[\"lon\"] = df[\"lon\"].astype(float)\n",
    "df[\"lat\"] = df[\"lat\"].astype(float)\n"
   ]
  },
  {
   "cell_type": "code",
   "execution_count": 6,
   "id": "53e4c578",
   "metadata": {
    "ExecuteTime": {
     "end_time": "2023-04-14T04:16:29.693441Z",
     "start_time": "2023-04-14T04:16:29.636981Z"
    }
   },
   "outputs": [],
   "source": [
    "df.loc[df.query(\"lon < 120\").index,  [\"lon\",\"lat\"]] = df.loc[df.query(\"lon < 120\").index,  [\"lat\", \"lon\"]].values"
   ]
  },
  {
   "cell_type": "code",
   "execution_count": 7,
   "id": "9a851f21",
   "metadata": {
    "ExecuteTime": {
     "end_time": "2023-04-14T04:16:30.469073Z",
     "start_time": "2023-04-14T04:16:30.445054Z"
    }
   },
   "outputs": [
    {
     "data": {
      "text/html": [
       "<div>\n",
       "<style scoped>\n",
       "    .dataframe tbody tr th:only-of-type {\n",
       "        vertical-align: middle;\n",
       "    }\n",
       "\n",
       "    .dataframe tbody tr th {\n",
       "        vertical-align: top;\n",
       "    }\n",
       "\n",
       "    .dataframe thead th {\n",
       "        text-align: right;\n",
       "    }\n",
       "</style>\n",
       "<table border=\"1\" class=\"dataframe\">\n",
       "  <thead>\n",
       "    <tr style=\"text-align: right;\">\n",
       "      <th></th>\n",
       "      <th>lat</th>\n",
       "      <th>lon</th>\n",
       "    </tr>\n",
       "  </thead>\n",
       "  <tbody>\n",
       "    <tr>\n",
       "      <th>0</th>\n",
       "      <td>37.511448</td>\n",
       "      <td>127.056866</td>\n",
       "    </tr>\n",
       "    <tr>\n",
       "      <th>1</th>\n",
       "      <td>37.511448</td>\n",
       "      <td>127.056866</td>\n",
       "    </tr>\n",
       "    <tr>\n",
       "      <th>2</th>\n",
       "      <td>37.511448</td>\n",
       "      <td>127.056866</td>\n",
       "    </tr>\n",
       "    <tr>\n",
       "      <th>3</th>\n",
       "      <td>37.511448</td>\n",
       "      <td>127.056866</td>\n",
       "    </tr>\n",
       "    <tr>\n",
       "      <th>4</th>\n",
       "      <td>37.511448</td>\n",
       "      <td>127.056866</td>\n",
       "    </tr>\n",
       "    <tr>\n",
       "      <th>...</th>\n",
       "      <td>...</td>\n",
       "      <td>...</td>\n",
       "    </tr>\n",
       "    <tr>\n",
       "      <th>214659</th>\n",
       "      <td>37.561527</td>\n",
       "      <td>126.900043</td>\n",
       "    </tr>\n",
       "    <tr>\n",
       "      <th>214660</th>\n",
       "      <td>37.561527</td>\n",
       "      <td>126.900043</td>\n",
       "    </tr>\n",
       "    <tr>\n",
       "      <th>214661</th>\n",
       "      <td>37.555656</td>\n",
       "      <td>126.909562</td>\n",
       "    </tr>\n",
       "    <tr>\n",
       "      <th>214662</th>\n",
       "      <td>37.555656</td>\n",
       "      <td>126.909562</td>\n",
       "    </tr>\n",
       "    <tr>\n",
       "      <th>214663</th>\n",
       "      <td>37.555656</td>\n",
       "      <td>126.909562</td>\n",
       "    </tr>\n",
       "  </tbody>\n",
       "</table>\n",
       "<p>214664 rows × 2 columns</p>\n",
       "</div>"
      ],
      "text/plain": [
       "              lat         lon\n",
       "0       37.511448  127.056866\n",
       "1       37.511448  127.056866\n",
       "2       37.511448  127.056866\n",
       "3       37.511448  127.056866\n",
       "4       37.511448  127.056866\n",
       "...           ...         ...\n",
       "214659  37.561527  126.900043\n",
       "214660  37.561527  126.900043\n",
       "214661  37.555656  126.909562\n",
       "214662  37.555656  126.909562\n",
       "214663  37.555656  126.909562\n",
       "\n",
       "[214664 rows x 2 columns]"
      ]
     },
     "execution_count": 7,
     "metadata": {},
     "output_type": "execute_result"
    }
   ],
   "source": [
    "df[[\"lat\", \"lon\"]]"
   ]
  },
  {
   "cell_type": "code",
   "execution_count": null,
   "id": "2656e541",
   "metadata": {},
   "outputs": [],
   "source": []
  },
  {
   "cell_type": "code",
   "execution_count": 11,
   "id": "8a82e023",
   "metadata": {
    "ExecuteTime": {
     "end_time": "2023-04-13T14:51:07.517264Z",
     "start_time": "2023-04-13T14:50:11.044475Z"
    }
   },
   "outputs": [
    {
     "name": "stderr",
     "output_type": "stream",
     "text": [
      "100%|█████████████████████████████████████████████████████████████████████████████| 6415/6415 [00:56<00:00, 113.89it/s]\n"
     ]
    }
   ],
   "source": [
    "# 가게이름에 대한 키가 없기 때문에 해당 파일에서 구분할 수 있는 기준 정의 \n",
    "usecols = ['name', 'addresse',  'review_num', 'score_min', 'cat1', 'likePoint', 'likePointCnt']\n",
    "li = df[usecols].value_counts().index\n",
    "diner_cnt = 0 \n",
    "\n",
    "for idx in tqdm(li) :\n",
    "    # diner_df에 들어갈 값 저장\n",
    "    diner_name, diner_address, diner_review_cnt, diner_review_avg, diner_category = idx[:5]\n",
    "    diner_review_tags = \"@\".join([\"\".join(i) for i in zip([j for j in idx[5].split(\"@\")], [k for k in idx[6].split(\"@\")])])\n",
    "    \n",
    "    # 그의 위도,경도,URL, 오픈 시간\n",
    "    ori_df = df.query(f\"name == '{diner_name}' and addresse == '{diner_address}'\")\n",
    "    \n",
    "    # loc를 통해 데이터 삽입\n",
    "    diner_df.loc[diner_cnt] = [\n",
    "                            diner_name,\n",
    "                            diner_category,\n",
    "                            ori_df.iloc[-1][\"cat2\"],\n",
    "                            diner_review_cnt,\n",
    "                            diner_review_avg,\n",
    "                            diner_review_tags,\n",
    "                            diner_address,\n",
    "                            ori_df.iloc[-1][\"lat\"],\n",
    "                            ori_df.iloc[-1][\"lon\"],\n",
    "                            ori_df.iloc[-1][\"url\"],\n",
    "                            ori_df.iloc[-1][\"open_time\"]\n",
    "                            ]\n",
    "    diner_cnt += 1"
   ]
  },
  {
   "cell_type": "code",
   "execution_count": 12,
   "id": "7de62cbf",
   "metadata": {
    "ExecuteTime": {
     "end_time": "2023-04-13T14:55:24.345458Z",
     "start_time": "2023-04-13T14:51:07.518634Z"
    }
   },
   "outputs": [
    {
     "name": "stderr",
     "output_type": "stream",
     "text": [
      "100%|██████████████████████████████████████████████████████████████████████████████| 5206/5206 [04:16<00:00, 20.27it/s]\n"
     ]
    }
   ],
   "source": [
    "review_cnt = 0\n",
    "\n",
    "# 가게이름과 주소를 통한 최소한의 중복 제거 후 반복 실행\n",
    "for i in tqdm(diner_df.drop_duplicates(subset = [\"diner_name\", \"diner_address\"], keep = \"last\").index) :\n",
    "    # query를 통해 가게 이름과 주소로 서치\n",
    "    ori_df = df.query(f\"name == '{diner_df.loc[i, 'diner_name']}' and addresse == '{diner_df.loc[i, 'diner_address']}'\")\n",
    "    \n",
    "    # 리뷰 평점 평균, 리뷰자가 올린 평점, 리뷰올린 날짜로 중복 제거\n",
    "    for j in ori_df.drop_duplicates(subset = [\"rate\", \"reviewAt\",\"reviews_date\"], keep = \"last\").index :\n",
    "        # 데이터 삽입\n",
    "        review_df.loc[review_cnt] = [\n",
    "                                ori_df.loc[j, \"rate\"],\n",
    "                                ori_df.loc[j, \"reviewerCnt\"],\n",
    "                                ori_df.loc[j, \"reviewAt\"],\n",
    "                                ori_df.loc[j, \"reviews_date\"],\n",
    "                                i\n",
    "                                ]\n",
    "        review_cnt += 1"
   ]
  },
  {
   "cell_type": "code",
   "execution_count": null,
   "id": "21887585",
   "metadata": {},
   "outputs": [],
   "source": []
  },
  {
   "cell_type": "code",
   "execution_count": 13,
   "id": "058f68d9",
   "metadata": {
    "ExecuteTime": {
     "end_time": "2023-04-13T14:55:30.192504Z",
     "start_time": "2023-04-13T14:55:24.346458Z"
    }
   },
   "outputs": [],
   "source": [
    "# 두 데이터 프레임을 시트로 구분하여 엑셀로 저장\n",
    "writer = pd.ExcelWriter('matki_DB.xlsx', engine='xlsxwriter')\n",
    "diner_df.to_excel(writer, sheet_name= 'diner')\n",
    "review_df.to_excel(writer, sheet_name= 'review')\n",
    "writer.save()"
   ]
  }
 ],
 "metadata": {
  "kernelspec": {
   "display_name": "Python 3 (ipykernel)",
   "language": "python",
   "name": "python3"
  },
  "language_info": {
   "codemirror_mode": {
    "name": "ipython",
    "version": 3
   },
   "file_extension": ".py",
   "mimetype": "text/x-python",
   "name": "python",
   "nbconvert_exporter": "python",
   "pygments_lexer": "ipython3",
   "version": "3.9.12"
  }
 },
 "nbformat": 4,
 "nbformat_minor": 5
}
