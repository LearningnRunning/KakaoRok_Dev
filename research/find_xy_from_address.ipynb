{
 "cells": [
  {
   "cell_type": "code",
   "execution_count": 5,
   "metadata": {},
   "outputs": [
    {
     "name": "stdout",
     "output_type": "stream",
     "text": [
      "{'documents': [{'address': {'address_name': '서울 종로구 종로3가 165', 'b_code': '1111015600', 'h_code': '1111061500', 'main_address_no': '165', 'mountain_yn': 'N', 'region_1depth_name': '서울', 'region_2depth_name': '종로구', 'region_3depth_h_name': '종로1.2.3.4가동', 'region_3depth_name': '종로3가', 'sub_address_no': '', 'x': '126.994236987056', 'y': '37.5701301233181'}, 'address_name': '서울 종로구 종로24길 3', 'address_type': 'ROAD_ADDR', 'road_address': {'address_name': '서울 종로구 종로24길 3', 'building_name': '', 'main_building_no': '3', 'region_1depth_name': '서울', 'region_2depth_name': '종로구', 'region_3depth_name': '종로3가', 'road_name': '종로24길', 'sub_building_no': '', 'underground_yn': 'N', 'x': '126.994236987056', 'y': '37.5701301233181', 'zone_no': '03193'}, 'x': '126.994236987056', 'y': '37.5701301233181'}, {'address': {'address_name': '서울 종로구 예지동 102', 'b_code': '1111015800', 'h_code': '1111061500', 'main_address_no': '102', 'mountain_yn': 'N', 'region_1depth_name': '서울', 'region_2depth_name': '종로구', 'region_3depth_h_name': '종로1.2.3.4가동', 'region_3depth_name': '예지동', 'sub_address_no': '', 'x': '126.995692936329', 'y': '37.5696468013624'}, 'address_name': '서울 종로구 종로28가길 3', 'address_type': 'ROAD_ADDR', 'road_address': {'address_name': '서울 종로구 종로28가길 3', 'building_name': '', 'main_building_no': '3', 'region_1depth_name': '서울', 'region_2depth_name': '종로구', 'region_3depth_name': '예지동', 'road_name': '종로28가길', 'sub_building_no': '', 'underground_yn': 'N', 'x': '126.995692936329', 'y': '37.5696468013624', 'zone_no': '03194'}, 'x': '126.995692936329', 'y': '37.5696468013624'}, {'address': {'address_name': '서울 종로구 연지동 211', 'b_code': '1111016000', 'h_code': '1111063000', 'main_address_no': '211', 'mountain_yn': 'N', 'region_1depth_name': '서울', 'region_2depth_name': '종로구', 'region_3depth_h_name': '종로5.6가동', 'region_3depth_name': '연지동', 'sub_address_no': '', 'x': '126.999664478652', 'y': '37.5722864351983'}, 'address_name': '서울 종로구 종로31가길 3', 'address_type': 'ROAD_ADDR', 'road_address': {'address_name': '서울 종로구 종로31가길 3', 'building_name': '', 'main_building_no': '3', 'region_1depth_name': '서울', 'region_2depth_name': '종로구', 'region_3depth_name': '연지동', 'road_name': '종로31가길', 'sub_building_no': '', 'underground_yn': 'N', 'x': '126.999664478652', 'y': '37.5722864351983', 'zone_no': '03129'}, 'x': '126.999664478652', 'y': '37.5722864351983'}, {'address': {'address_name': '서울 종로구 종로5가 89-2', 'b_code': '1111016300', 'h_code': '1111063000', 'main_address_no': '89', 'mountain_yn': 'N', 'region_1depth_name': '서울', 'region_2depth_name': '종로구', 'region_3depth_h_name': '종로5.6가동', 'region_3depth_name': '종로5가', 'sub_address_no': '2', 'x': '127.00135565165', 'y': '37.5713154254256'}, 'address_name': '서울 종로구 종로33길 3', 'address_type': 'ROAD_ADDR', 'road_address': {'address_name': '서울 종로구 종로33길 3', 'building_name': '', 'main_building_no': '3', 'region_1depth_name': '서울', 'region_2depth_name': '종로구', 'region_3depth_name': '종로5가', 'road_name': '종로33길', 'sub_building_no': '', 'underground_yn': 'N', 'x': '127.00135565165', 'y': '37.5713154254256', 'zone_no': '03129'}, 'x': '127.00135565165', 'y': '37.5713154254256'}, {'address': {'address_name': '서울 종로구 효제동 199', 'b_code': '1111016200', 'h_code': '1111063000', 'main_address_no': '199', 'mountain_yn': 'N', 'region_1depth_name': '서울', 'region_2depth_name': '종로구', 'region_3depth_h_name': '종로5.6가동', 'region_3depth_name': '효제동', 'sub_address_no': '', 'x': '127.004136155145', 'y': '37.5719773219012'}, 'address_name': '서울 종로구 종로35가길 3', 'address_type': 'ROAD_ADDR', 'road_address': {'address_name': '서울 종로구 종로35가길 3', 'building_name': '더원 호텔', 'main_building_no': '3', 'region_1depth_name': '서울', 'region_2depth_name': '종로구', 'region_3depth_name': '효제동', 'road_name': '종로35가길', 'sub_building_no': '', 'underground_yn': 'N', 'x': '127.004136155145', 'y': '37.5719773219012', 'zone_no': '03126'}, 'x': '127.004136155145', 'y': '37.5719773219012'}], 'meta': {'is_end': False, 'pageable_count': 26, 'total_count': 26}}\n"
     ]
    }
   ],
   "source": [
    "import requests\n",
    "\n",
    "# 카카오 REST API 키 설정\n",
    "api_key = '56f2996078b111211db16eba25db2d59'  # 여기에 실제 REST API 키를 입력하세요\n",
    "\n",
    "# 요청 URL 및 헤더 설정\n",
    "url = \"https://dapi.kakao.com/v2/local/search/address.json\"\n",
    "headers = {\n",
    "    \"Authorization\": f\"KakaoAK {api_key}\"\n",
    "}\n",
    "\n",
    "# 요청 파라미터 설정\n",
    "params = {\n",
    "    \"query\": \"종로3가역 2번출구\",\n",
    "    'analyze_type' : 'similar',\n",
    "    'size' : 5\n",
    "}\n",
    "\n",
    "# GET 요청 보내기\n",
    "response = requests.get(url, headers=headers, params=params)\n",
    "\n",
    "# 응답 데이터 출력\n",
    "if response.status_code == 200:\n",
    "    print(response.json())\n",
    "else:\n",
    "    print(f\"Error: {response.status_code}, {response.text}\")\n"
   ]
  },
  {
   "cell_type": "code",
   "execution_count": 6,
   "metadata": {},
   "outputs": [],
   "source": [
    "response_json = response.json()"
   ]
  },
  {
   "cell_type": "code",
   "execution_count": 10,
   "metadata": {},
   "outputs": [
    {
     "data": {
      "text/plain": [
       "{'is_end': False, 'pageable_count': 26, 'total_count': 26}"
      ]
     },
     "execution_count": 10,
     "metadata": {},
     "output_type": "execute_result"
    }
   ],
   "source": [
    "response_json['meta']"
   ]
  },
  {
   "cell_type": "code",
   "execution_count": 15,
   "metadata": {},
   "outputs": [],
   "source": [
    "response_doc_list = response_json['documents']"
   ]
  },
  {
   "cell_type": "code",
   "execution_count": 16,
   "metadata": {},
   "outputs": [],
   "source": [
    "response_doc = response_doc_list[0]"
   ]
  },
  {
   "cell_type": "code",
   "execution_count": 18,
   "metadata": {},
   "outputs": [
    {
     "data": {
      "text/plain": [
       "'서울 종로구 종로24길 3'"
      ]
     },
     "execution_count": 18,
     "metadata": {},
     "output_type": "execute_result"
    }
   ],
   "source": [
    "response_doc['address_name']"
   ]
  },
  {
   "cell_type": "code",
   "execution_count": 20,
   "metadata": {},
   "outputs": [
    {
     "data": {
      "text/plain": [
       "('126.994236987056', '37.5701301233181')"
      ]
     },
     "execution_count": 20,
     "metadata": {},
     "output_type": "execute_result"
    }
   ],
   "source": []
  },
  {
   "cell_type": "code",
   "execution_count": 24,
   "metadata": {},
   "outputs": [],
   "source": [
    "response_json = response.json()\n",
    "response_doc_list = response_json['documents']\n",
    "address_info_list = [[response_doc['address_name'],float(response_doc['x']), float(response_doc['y'])] for response_doc in response_doc_list]"
   ]
  },
  {
   "cell_type": "code",
   "execution_count": 25,
   "metadata": {},
   "outputs": [
    {
     "data": {
      "text/plain": [
       "[['서울 종로구 종로24길 3', 126.994236987056, 37.5701301233181],\n",
       " ['서울 종로구 종로28가길 3', 126.995692936329, 37.5696468013624],\n",
       " ['서울 종로구 종로31가길 3', 126.999664478652, 37.5722864351983],\n",
       " ['서울 종로구 종로33길 3', 127.00135565165, 37.5713154254256],\n",
       " ['서울 종로구 종로35가길 3', 127.004136155145, 37.5719773219012]]"
      ]
     },
     "execution_count": 25,
     "metadata": {},
     "output_type": "execute_result"
    }
   ],
   "source": [
    "address_info_list"
   ]
  },
  {
   "cell_type": "code",
   "execution_count": null,
   "metadata": {},
   "outputs": [],
   "source": [
    "import streamlit as st\n",
    "default_address_info_list = [\n",
    "    ['서울 강남구 삼성로', 37.5074423, 127.0567474]\n",
    "]\n",
    "@st.experimental_dialog(\"현 위치 아닐 경우\")\n",
    "def search_your_address():\n",
    "    search_region_text = st.text_input(\"주소나 키워드로 입력해줘\")\n",
    "    if st.button(\"검색\"):\n",
    "        # 요청 파라미터 설정\n",
    "        params = {\n",
    "            \"query\": search_region_text,\n",
    "            'analyze_type' : 'similar',\n",
    "            'size' : 5\n",
    "        }\n",
    "\n",
    "        # GET 요청 보내기\n",
    "        response = requests.get(url, headers=headers, params=params)\n",
    "\n",
    "        # 응답 데이터 출력\n",
    "        if response.status_code == 200:\n",
    "            response_json = response.json()\n",
    "            response_doc_list = response_json['documents']\n",
    "            address_info_list = [[response_doc['address_name'],float(response_doc['x']), float(response_doc['y'])] for response_doc in response_doc_list]\n",
    "            st.session_state.address_info = {\"address_info_list\": address_info_list}\n",
    "        else:\n",
    "            st.session_state.address_info = {\"address_info_list\": default_address_info_list}\n",
    "            print(f\"Error: {response.status_code}, {response.text}\")\n",
    "\n",
    "        \n",
    "        st.rerun()\n",
    "\n",
    "if \"address_info\" not in st.session_state:\n",
    "    st.write(\"Vote for your favorite\")\n",
    "    if st.button(\"A\"):\n",
    "        search_your_address()\n",
    "\n",
    "else:\n",
    "    f\"You voted for {st.session_state.address_info['address_info_list']}\""
   ]
  }
 ],
 "metadata": {
  "kernelspec": {
   "display_name": "base",
   "language": "python",
   "name": "python3"
  },
  "language_info": {
   "codemirror_mode": {
    "name": "ipython",
    "version": 3
   },
   "file_extension": ".py",
   "mimetype": "text/x-python",
   "name": "python",
   "nbconvert_exporter": "python",
   "pygments_lexer": "ipython3",
   "version": "3.10.6"
  },
  "orig_nbformat": 4,
  "vscode": {
   "interpreter": {
    "hash": "2568b31422f911d240befaa5e46dd782c4cc23ae238e6e2196b9786beeefb2a9"
   }
  }
 },
 "nbformat": 4,
 "nbformat_minor": 2
}
